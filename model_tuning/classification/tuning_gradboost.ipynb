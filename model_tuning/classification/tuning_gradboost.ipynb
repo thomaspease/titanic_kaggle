{
 "cells": [
  {
   "cell_type": "code",
   "execution_count": 2,
   "metadata": {},
   "outputs": [],
   "source": [
    "import sys\n",
    "sys.path.append('/Users/tompease/Documents/Coding/titanic')\n",
    "from sklearn.ensemble import GradientBoostingClassifier\n",
    "from utils.tune_hyperparameters import ClassificationTuneModel\n",
    "from utils.data_loader import TitanicLoader\n",
    "from scipy.stats import randint\n"
   ]
  },
  {
   "cell_type": "code",
   "execution_count": 3,
   "metadata": {},
   "outputs": [],
   "source": [
    "loader = TitanicLoader()\n",
    "X, y = loader.load('Survived')\n",
    "\n",
    "grad_boost_param_dist = {\n",
    "  'learning_rate' : [0.001, 0.01, 0.1, 1, 10],\n",
    "  'n_estimators': randint(1,1000),\n",
    "  'min_samples_split': randint(1,10),\n",
    "  'min_samples_leaf': randint(1,20),\n",
    "  'min_weight_fraction_leaf': [0.0, 0.0001, 0.001, 0.1],\n",
    "  'max_depth': randint(1,5),\n",
    "  'max_features': ['sqrt', 'log2', None]\n",
    "}\n",
    "\n",
    "tuned_random_forest = ClassificationTuneModel(X, y, GradientBoostingClassifier, param_grid=grad_boost_param_dist, method='random', n_iter=500)"
   ]
  },
  {
   "cell_type": "code",
   "execution_count": 4,
   "metadata": {},
   "outputs": [
    {
     "data": {
      "text/plain": [
       "{'params': {'ccp_alpha': 0.0,\n",
       "  'criterion': 'friedman_mse',\n",
       "  'init': None,\n",
       "  'learning_rate': 0.1,\n",
       "  'loss': 'log_loss',\n",
       "  'max_depth': 3,\n",
       "  'max_features': None,\n",
       "  'max_leaf_nodes': None,\n",
       "  'min_impurity_decrease': 0.0,\n",
       "  'min_samples_leaf': 1,\n",
       "  'min_samples_split': 2,\n",
       "  'min_weight_fraction_leaf': 0.0,\n",
       "  'n_estimators': 100,\n",
       "  'n_iter_no_change': None,\n",
       "  'random_state': None,\n",
       "  'subsample': 1.0,\n",
       "  'tol': 0.0001,\n",
       "  'validation_fraction': 0.1,\n",
       "  'verbose': 0,\n",
       "  'warm_start': False},\n",
       " 'train accuracy': 0.9139646869983948,\n",
       " 'test accuracy': 0.8283582089552238}"
      ]
     },
     "execution_count": 4,
     "metadata": {},
     "output_type": "execute_result"
    }
   ],
   "source": [
    "tuned_random_forest.default_model_performance_"
   ]
  },
  {
   "cell_type": "code",
   "execution_count": 5,
   "metadata": {},
   "outputs": [
    {
     "data": {
      "text/plain": [
       "{'params': {'learning_rate': 0.1,\n",
       "  'max_depth': 2,\n",
       "  'max_features': None,\n",
       "  'min_samples_leaf': 18,\n",
       "  'min_samples_split': 8,\n",
       "  'min_weight_fraction_leaf': 0.001,\n",
       "  'n_estimators': 332},\n",
       " 'train': 0.9059390048154092,\n",
       " 'test': 0.8380597014925373}"
      ]
     },
     "execution_count": 5,
     "metadata": {},
     "output_type": "execute_result"
    }
   ],
   "source": [
    "tuned_random_forest.tuned_performance_"
   ]
  },
  {
   "cell_type": "code",
   "execution_count": 7,
   "metadata": {},
   "outputs": [
    {
     "name": "stdout",
     "output_type": "stream",
     "text": [
      "Model saved :)\n"
     ]
    }
   ],
   "source": [
    "tuned_random_forest.save_model_and_results()"
   ]
  }
 ],
 "metadata": {
  "kernelspec": {
   "display_name": "ds-env",
   "language": "python",
   "name": "python3"
  },
  "language_info": {
   "codemirror_mode": {
    "name": "ipython",
    "version": 3
   },
   "file_extension": ".py",
   "mimetype": "text/x-python",
   "name": "python",
   "nbconvert_exporter": "python",
   "pygments_lexer": "ipython3",
   "version": "3.10.8 (main, Nov 24 2022, 08:08:27) [Clang 14.0.6 ]"
  },
  "orig_nbformat": 4,
  "vscode": {
   "interpreter": {
    "hash": "528eaf8525cf343a920c15b29059300b3605b13ef357b40927062a8441ce532e"
   }
  }
 },
 "nbformat": 4,
 "nbformat_minor": 2
}
