{
 "cells": [
  {
   "cell_type": "code",
   "execution_count": 1,
   "metadata": {},
   "outputs": [
    {
     "name": "stderr",
     "output_type": "stream",
     "text": [
      "/Users/tompease/Documents/Coding/titanic/utils/data_loader.py:37: FutureWarning: In a future version, `df.iloc[:, i] = newvals` will attempt to set the values inplace instead of always setting a new array. To retain the old behavior, use either `df[df.columns[i]] = newvals` or, if columns are non-unique, `df.isetitem(i, newvals)`\n",
      "  df.loc[:, enc_columns] = encode(df.loc[:, enc_columns])\n",
      "/Users/tompease/Documents/Coding/titanic/utils/data_loader.py:55: FutureWarning: In a future version, `df.iloc[:, i] = newvals` will attempt to set the values inplace instead of always setting a new array. To retain the old behavior, use either `df[df.columns[i]] = newvals` or, if columns are non-unique, `df.isetitem(i, newvals)`\n",
      "  df.loc[:, enc_columns] = encode_test(self.complete_train.loc[:, enc_columns], df.loc[:, enc_columns])\n",
      "/Users/tompease/opt/miniconda3/envs/ds-env/lib/python3.10/site-packages/tqdm/auto.py:22: TqdmWarning: IProgress not found. Please update jupyter and ipywidgets. See https://ipywidgets.readthedocs.io/en/stable/user_install.html\n",
      "  from .autonotebook import tqdm as notebook_tqdm\n",
      "/Users/tompease/Documents/Coding/titanic/utils/data_loader.py:55: FutureWarning: In a future version, `df.iloc[:, i] = newvals` will attempt to set the values inplace instead of always setting a new array. To retain the old behavior, use either `df[df.columns[i]] = newvals` or, if columns are non-unique, `df.isetitem(i, newvals)`\n",
      "  df.loc[:, enc_columns] = encode_test(self.complete_train.loc[:, enc_columns], df.loc[:, enc_columns])\n"
     ]
    }
   ],
   "source": [
    "import sys\n",
    "sys.path.append('/Users/tompease/Documents/Coding/titanic')\n",
    "import joblib\n",
    "from utils.data_loader import TitanicLoader\n",
    "import torch\n",
    "import pandas as pd\n",
    "\n",
    "# NN\n",
    "nn = joblib.load('/Users/tompease/Documents/Coding/titanic/models/nns/Sequential/11012023_15:45/model.joblib')\n",
    "\n",
    "# Load data\n",
    "loader = TitanicLoader()\n",
    "X = loader.load_test()\n",
    "\n",
    "X_tensor = torch.tensor(X.values, dtype=torch.float32)\n",
    "\n",
    "output = nn(X_tensor)\n",
    "preds = output.argmax(dim=1, keepdim=True)\n",
    "preds = preds.numpy()\n",
    "\n",
    "ids = pd.read_csv('data/test.csv')['PassengerId']\n",
    "\n",
    "nn_df = pd.DataFrame()\n",
    "\n",
    "nn_df['PassengerId'] = ids\n",
    "nn_df['Survived'] = preds\n",
    "\n",
    "nn_df.to_csv('data/submissions/nn_1101.csv', index=False)"
   ]
  },
  {
   "cell_type": "code",
   "execution_count": 5,
   "metadata": {},
   "outputs": [],
   "source": [
    "grad_boost = joblib.load('/Users/tompease/Documents/Coding/titanic/models/GradientBoostingClassifier/11012023_16:00/model.joblib')\n",
    "\n",
    "preds = grad_boost.predict(X)\n",
    "\n",
    "gradboost_df = pd.DataFrame()\n",
    "\n",
    "gradboost_df['PassengerId'] = ids\n",
    "gradboost_df['Survived'] = preds\n",
    "\n",
    "gradboost_df.to_csv('data/submissions/gradboost_1101.csv', index=False)"
   ]
  },
  {
   "cell_type": "code",
   "execution_count": null,
   "metadata": {},
   "outputs": [],
   "source": []
  }
 ],
 "metadata": {
  "kernelspec": {
   "display_name": "ds-env",
   "language": "python",
   "name": "python3"
  },
  "language_info": {
   "codemirror_mode": {
    "name": "ipython",
    "version": 3
   },
   "file_extension": ".py",
   "mimetype": "text/x-python",
   "name": "python",
   "nbconvert_exporter": "python",
   "pygments_lexer": "ipython3",
   "version": "3.10.8 (main, Nov 24 2022, 08:08:27) [Clang 14.0.6 ]"
  },
  "orig_nbformat": 4,
  "vscode": {
   "interpreter": {
    "hash": "528eaf8525cf343a920c15b29059300b3605b13ef357b40927062a8441ce532e"
   }
  }
 },
 "nbformat": 4,
 "nbformat_minor": 2
}
