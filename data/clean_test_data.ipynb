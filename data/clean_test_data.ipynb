{
 "cells": [
  {
   "cell_type": "code",
   "execution_count": 1,
   "metadata": {},
   "outputs": [],
   "source": [
    "import pandas as pd\n",
    "\n",
    "df = pd.read_csv('/Users/tompease/Documents/Coding/titanic/data/test.csv')\n",
    "df = df.drop(['Name', 'Ticket'], axis=1)\n",
    "df['Cabin'] = df['Cabin'].fillna(1)\n",
    "df['Fare'] = df['Fare'].fillna(0)\n",
    "df['Age'] = df['Age'].fillna(df['Age'].mean())\n",
    "df.to_csv('/Users/tompease/Documents/Coding/titanic/data/cleaned_test.csv')"
   ]
  },
  {
   "cell_type": "code",
   "execution_count": null,
   "metadata": {},
   "outputs": [],
   "source": []
  }
 ],
 "metadata": {
  "kernelspec": {
   "display_name": "ds-env",
   "language": "python",
   "name": "python3"
  },
  "language_info": {
   "codemirror_mode": {
    "name": "ipython",
    "version": 3
   },
   "file_extension": ".py",
   "mimetype": "text/x-python",
   "name": "python",
   "nbconvert_exporter": "python",
   "pygments_lexer": "ipython3",
   "version": "3.10.8"
  },
  "orig_nbformat": 4,
  "vscode": {
   "interpreter": {
    "hash": "528eaf8525cf343a920c15b29059300b3605b13ef357b40927062a8441ce532e"
   }
  }
 },
 "nbformat": 4,
 "nbformat_minor": 2
}
